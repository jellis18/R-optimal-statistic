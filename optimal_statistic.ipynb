{
 "cells": [
  {
   "cell_type": "markdown",
   "metadata": {},
   "source": [
    "# A Simple Optimal Statistic Example\n",
    "\n",
    "Contained in this notebook are several functions for creating the matrix auxiliaries needed for computing the OS, as well as the OS function itself. The data used here is that from the [IPTA mock data challenge](http://www.ipta4gw.org/?page_id=126) (we use open dataset 3). While these data do not have many of the complexities of real data it affords a good testing ground."
   ]
  },
  {
   "cell_type": "markdown",
   "metadata": {},
   "source": [
    "## Read in the residual data, design matrices and sky locations"
   ]
  },
  {
   "cell_type": "code",
   "execution_count": 1,
   "metadata": {
    "collapsed": true
   },
   "outputs": [],
   "source": [
    "# get all of the residual and design matrix data\n",
    "rdata <- Sys.glob('mdc_data/datafiles/*.res')\n",
    "Mdata <- Sys.glob('mdc_data/datafiles/*.dmat')\n",
    "\n",
    "sky_loc_table <- read.table('mdc_data/datafiles/sky_locs.txt', header=FALSE, sep=\"\")"
   ]
  },
  {
   "cell_type": "code",
   "execution_count": 2,
   "metadata": {
    "collapsed": false
   },
   "outputs": [],
   "source": [
    "# read data into lists, where each element in the list is for a specific pulsar\n",
    "psrs = list()\n",
    "ct <- 1\n",
    "for (xx in mapply(list, rdata, Mdata, SIMPLIFY=F)){\n",
    "    psr <- list(name=sky_loc_table[ct,1])\n",
    "    dat <- read.table(xx[[1]], header = FALSE, sep = \"\")\n",
    "    psr$Mmat <- as.matrix(read.table(xx[[2]], header = FALSE, sep = \"\"))\n",
    "    psr$toas <- dat[,1]\n",
    "    psr$res <- dat[,2]\n",
    "    psr$err <- dat[,3]\n",
    "    psr$theta <- sky_loc_table[ct,2]\n",
    "    psr$phi <- sky_loc_table[ct,3]\n",
    "    psrs[[ct]] <- psr\n",
    "    ct <- ct + 1\n",
    "}"
   ]
  },
  {
   "cell_type": "markdown",
   "metadata": {},
   "source": [
    "## Some auxiliary functions to create the needed matrices"
   ]
  },
  {
   "cell_type": "code",
   "execution_count": 3,
   "metadata": {
    "collapsed": true
   },
   "outputs": [],
   "source": [
    "# Creates the Fourier design matrix F\n",
    "create_fourier_designmatrix <- function(time, nmode = 30) {\n",
    "\n",
    "F.matrix <- matrix(0, nrow = length(time), ncol = 2 * nmode)\n",
    "    T.total.time.span <- max(time) - min(time)\n",
    "    f.frequencies <- seq(1 / T.total.time.span, \n",
    "                         nmode / T.total.time.span, \n",
    "                         length = nmode)\n",
    "\n",
    "    F.matrix[, seq(1, (2 * nmode), by = 2)] <- sin(2 * pi * (time %*% t(f.frequencies)))\n",
    "    F.matrix[, seq(2, (2 * nmode), by = 2)] <- cos(2 * pi * (time %*% t(f.frequencies)))\n",
    "\n",
    "    output <- list(f.freq = f.frequencies, F.mat = F.matrix)\n",
    "    return(output)\n",
    "    \n",
    "}\n",
    "\n",
    "# get unit vector pointing from earth to pulsar\n",
    "create_earth_pulsar_uvector <- function(theta, phi){\n",
    "    px <- sin(theta) * cos(phi)\n",
    "    py <- sin(theta) * sin(phi)\n",
    "    pz <- cos(theta)\n",
    "    return(c(px, py, pz))\n",
    "}\n",
    "\n",
    "# creates the red noise \\varphi diagonal\n",
    "create_pl_matrix <- function(A, gamma, freq) {\n",
    "\n",
    "    # normalization\n",
    "    f1yr = 1 / 3.16e7\n",
    "\n",
    "    # T is the total timespan of the data\n",
    "    Pf = A^2 / 12 / pi^2 * f1yr^(gamma - 3) * freq^(-gamma) * freq[1]\n",
    "\n",
    "    return(rep(Pf, each = 2))\n",
    "\n",
    "}\n",
    "\n",
    "\n",
    "# creates B^{-1} including timing model and red noise\n",
    "create_B_inv <- function(A, gamma, freq, ntmpars){\n",
    "\n",
    "    return(c(rep(0, ntmpars), 1 / create_pl_matrix(A, gamma, freq)))\n",
    "\n",
    "}\n",
    "\n",
    "\n",
    "# Hellings-Downs overlap reduction function \\Gamma\n",
    "# xi is the angular separation between pulsar pairs\n",
    "hd_orf <- function(xi){\n",
    "    omc2 = (1 - cos(xi)) / 2\n",
    "    return(1.5 * omc2 * log(omc2) - 0.25 * omc2 + 0.5)\n",
    "}\n",
    "\n"
   ]
  },
  {
   "cell_type": "markdown",
   "metadata": {},
   "source": [
    "## Functions to setup necessary arrays in pulsar list\n",
    "\n",
    "This function computes the intermediate data products like the $F$ and $T$ matrix as well as the earth-pulsar unit vector."
   ]
  },
  {
   "cell_type": "code",
   "execution_count": 4,
   "metadata": {
    "collapsed": false
   },
   "outputs": [],
   "source": [
    "# there is probably a cleaner way to do this...\n",
    "init_arrays <- function(psrlist){\n",
    "    \n",
    "    for (ii in 1:length(psrlist)){\n",
    "        \n",
    "        # get F matrices\n",
    "        Fout <- create_fourier_designmatrix(psrlist[[ii]]$toas)\n",
    "        psrlist[[ii]]$Fmat <- Fout$F.mat\n",
    "        psrlist[[ii]]$freqs <- Fout$f.freq\n",
    "        \n",
    "        # get pulsar unit vectors\n",
    "        psrlist[[ii]]$pos <- create_earth_pulsar_uvector(psrlist[[ii]]$theta, psrlist[[ii]]$phi)\n",
    "        \n",
    "        psrlist[[ii]]$Tmat <- cbind(psrlist[[ii]]$Mmat, Fout$F.mat)\n",
    "        \n",
    "    }\n",
    "    psrlist\n",
    "}"
   ]
  },
  {
   "cell_type": "markdown",
   "metadata": {},
   "source": [
    "## Function to compute Optimal Statistic\n",
    "\n",
    "When searching for a stochastic GW background the so-called \"smoking gun\" is the [Hellings and Downs correlations](http://articles.adsabs.harvard.edu//full/1983ApJ...265L..39H/L000039.000.html). While, in principle a Bayesian approach is ideal for this kind of inference, it can be quite computationally expensive. For this reason the so-called optimal cross-correlation statistic was described in [Chamberlin et al (2015)](http://adsabs.harvard.edu/abs/2015PhRvD..91d4048C). Unfortunately our notation and methods have changed somewhat since that paper was published. Here we will define the optimal statistic in terms of the method described above.\n",
    "\n",
    "The optimal statistic can be defined as \n",
    "\n",
    "$$\n",
    "\\hat{A}_{\\rm gw}^2 = \\frac{\\sum_{ab}\\delta \\tau_a C_a^{-1}\\tilde{S}_{ab}C_J^{-1}\\delta \\tau_b}{\\sum_{ab}\\mathrm{tr}(C_a^{-1}\\tilde{S}_{ab}C_b^{-1}\\tilde{S}_{ba})},\n",
    "$$\n",
    "\n",
    "where $\\sum_{ab}$ denotes the sum over all pairs of pulsars and \n",
    "\n",
    "$$\n",
    "\\langle \\delta t\\tau_a \\delta \\tau_b^T \\rangle =  S_{ab} = A_{\\rm gw}^2 \\tilde{S}_{ab}.\n",
    "$$\n",
    "\n",
    "For clarity we will now write out the individual terms in the notation of this notebook:\n",
    "\n",
    "$$\n",
    "\\begin{split}\n",
    "C_a &= \\langle \\delta \\tau_a \\delta \\tau_a^T \\rangle = N_a + T_a B_a T_a^T\\\\\n",
    "S_{ab} &= \\langle \\delta \\tau_a \\delta \\tau_b^T \\rangle = F^{\\rm red}_a\\varphi_{ab}^{\\rm gw}(F^{\\rm red}_b)^T,\n",
    "\\end{split}\n",
    "$$\n",
    "\n",
    "where $\\varphi_{ab}^{\\rm gw} = \\Gamma_{ab}P_{\\rm gw}(f)$ with $\\Gamma_{ab}$ the known cross correlation value (i.e., the Hellings and Downs coefficient) and $P_{\\rm gw}(f)$ is the power spectrum of the GWB.\n",
    "\n",
    "In many cases it is more useful to obtain the optimal statistic by a fit of the individual cross-correlation coefficients to the amplitude weighted overlap reduction function (i.e. $A_{\\rm gw}^2\\Gamma_{ab}$). The cross-correlation coefficients and their uncertainties are\n",
    "\n",
    "$$\n",
    "\\begin{split}\n",
    "\\rho_{ab} &= \\delta \\tau_a C_a^{-1}\\hat{S}_{ab}C_J^{-1}\\delta \\tau_b \\\\\n",
    "\\sigma_{ab} &= \\left( \\mathrm{tr}(C_a^{-1}\\hat{S}_{ab}C_b^{-1}\\hat{S}_{ba}) \\right)^{-1/2}\n",
    "\\end{split}\n",
    "$$\n",
    "\n",
    "where $A_{\\rm gw}^2\\Gamma_{ab}\\hat{S}_{ab}=S_{ab}$. The optimal statistic can then be recovered with\n",
    "\n",
    "$$\n",
    "\\hat{A}_{\\rm gw}^2 = \\left(\\sum_{ab}\\frac{\\rho_{ab}\\Gamma_{ab}}{\\sigma^2_{ab}}\\right)\\left( \\sum_{ab}\\frac{\\Gamma_{ab}^2}{\\sigma_{ab}^2} \\right)^{-1}.\n",
    "$$\n",
    "\n",
    "Lastly, computationally it is most efficient to define auxiliary variables\n",
    "\n",
    "$$\n",
    "\\begin{split}\n",
    "X_a &= (F^{\\rm red}_a)^T C_a^{-1} \\delta \\tau_a \\\\\n",
    "Z_a &= (F^{\\rm red}_a)^T C_a^{-1} F^{\\rm red}_a.\n",
    "\\end{split}\n",
    "$$\n",
    "With these definitions we now have\n",
    "\n",
    "$$\n",
    "\\begin{split}\n",
    "\\rho_{ab} &= X_a \\varphi_{ab} X_b \\\\\n",
    "\\sigma_{ab} &= \\left( \\mathrm{tr}(Z_a\\varphi_{ab}Z_b\\varphi_{ba}) \\right)^{-1/2},\n",
    "\\end{split}\n",
    "$$\n",
    "\n",
    "with $\\Gamma_{ab}\\varphi_{ab} = \\varphi_{ab}^{\\rm gw}$.\n",
    "\n",
    "**Note**: to match the paper's notation we can write $r_I = \\delta \\tau_a$ and $P_J = C_b$. With these definitions all other relations in the paper hold."
   ]
  },
  {
   "cell_type": "code",
   "execution_count": 5,
   "metadata": {
    "collapsed": false
   },
   "outputs": [],
   "source": [
    "compute_cross_coeffs <- function(params, psrlist){\n",
    "    \n",
    "    # initialize lists of matrix products to use later\n",
    "    X <- list()\n",
    "    Z <- list()\n",
    "    \n",
    "    npsr <- length(psrlist)\n",
    "    for (ii in 1:npsr){\n",
    "        \n",
    "        # get white noise and B covariances\n",
    "        Nvec <- psrlist[[ii]]$err^2\n",
    "        ntmpars <- dim(psrlist[[ii]]$Mmat)[2]\n",
    "        freq <- psrlist[[ii]]$freq\n",
    "        A <- 10^params[2*ii-1]\n",
    "        gamma <- params[2*ii]\n",
    "        Binv <- create_B_inv(A, gamma, freq, ntmpars)\n",
    "        \n",
    "        # compute T^T N^{-1} \\delta t\n",
    "        TNr <- t(psrlist[[ii]]$Tmat) %*% (psrlist[[ii]]$res / Nvec)\n",
    "        \n",
    "        # compute F^T N^{-1} \\delta t\n",
    "        FNr <- t(psrlist[[ii]]$Fmat) %*% (psrlist[[ii]]$res / Nvec)\n",
    "        \n",
    "        # compute T^TN^{-1}T\n",
    "        TNT <- t(psrlist[[ii]]$Tmat) %*% (psrlist[[ii]]$Tmat / Nvec)\n",
    "        \n",
    "        # compute F^TN^{-1}F\n",
    "        FNF <- t(psrlist[[ii]]$Fmat) %*% (psrlist[[ii]]$Fmat / Nvec)\n",
    "        \n",
    "        # compute F^TN^{-1}T\n",
    "        FNT <- t(psrlist[[ii]]$Fmat) %*% (psrlist[[ii]]$Tmat / Nvec)\n",
    "        \n",
    "        # compute \\Sigma = T^TN^{-1}T + B^{-1}\n",
    "        Sigma <- TNT + diag(Binv)\n",
    "        \n",
    "        # compute F^T N^{-1} T \\Sigma^{-1} d\n",
    "        cf = chol(Sigma)\n",
    "        Sigma.inv = chol2inv(cf)\n",
    "        SigmaInvd <- Sigma.inv %*% TNr\n",
    "        SigmaInvTNF <- Sigma.inv %*% t(FNT)\n",
    "        FNTSigmad <- FNT %*% SigmaInvd\n",
    "        \n",
    "        # X = F^T[N^{-1} - N^{-1} T \\Sigma^{-1} T^T N^{-1}]\\delta t\n",
    "        X[[ii]] <- as.numeric(FNr - FNTSigmad)\n",
    "        \n",
    "        # Z = F^T [N^{-1} - N^{-1} T \\Sigma^{-1} T^T N^{-1}] F\n",
    "        Z[[ii]] <- FNF - FNT %*% SigmaInvTNF\n",
    "        \n",
    "    }\n",
    "    \n",
    "    # cross terms\n",
    "    rho <- list()\n",
    "    sig <- list()\n",
    "    xi <- list()\n",
    "    ct <- 1\n",
    "    for (ii in 1:(npsr-1)){\n",
    "        fgw <- psrlist[[ii]]$freq\n",
    "        for (jj in (ii+1):npsr){\n",
    "            \n",
    "            # constructing \\tilde{S}_{ab} = F_a \\varphi_{gw} F_b^T\n",
    "            Amp <- 1\n",
    "            gamma <- 13/3\n",
    "            f1yr <- 1 / 3.16e7\n",
    "            phiab <- create_pl_matrix(Amp, gamma, fgw)\n",
    "\n",
    "            # construct the cross correlation coefficients and uncertainties\n",
    "            top <- X[[ii]] %*% (phiab * X[[jj]])\n",
    "            bot <- sum(diag((Z[[ii]]*phiab) %*% (Z[[jj]] * phiab)))\n",
    "            rho[[ct]] <- top / bot\n",
    "            sig[[ct]] <- 1 / sqrt(bot)\n",
    "            xi[[ct]] <- acos(psrlist[[ii]]$pos %*% psrlist[[jj]]$pos)\n",
    "            ct <- ct + 1\n",
    "        \n",
    "        }\n",
    "    }\n",
    "    return(list(xi=as.numeric(xi), rho=as.numeric(rho), sig=as.numeric(sig)))\n",
    "}\n",
    "\n",
    "# takes result of compute_cross_coeffs\n",
    "compute_os <- function(cc){\n",
    "    orf <- hd_orf(cc$xi)\n",
    "    Opt <- sum(cc$rho * orf / cc$sig^2) / sum(orf^2/cc$sig^2)\n",
    "    Sig <- 1 / sqrt(sum(orf^2 / cc$sig^2))\n",
    "    return(list(Opt=Opt, Sig=Sig))\n",
    "}"
   ]
  },
  {
   "cell_type": "markdown",
   "metadata": {},
   "source": [
    "## Run OS on mock data\n",
    "\n",
    "Here we initialize the list of pulsars and set the parameter vector. Here we assume that we know the injected value (in reality we would get this from various noise analyses) which has amplitude $10^{-14}$ and spectral index $13/3$."
   ]
  },
  {
   "cell_type": "code",
   "execution_count": 6,
   "metadata": {
    "collapsed": false
   },
   "outputs": [],
   "source": [
    "psrlist <- init_arrays(psrs)\n",
    "npsr <- length(psrlist)\n",
    "npar <- 2 * npsr\n",
    "params <- c(rep(0, npar))\n",
    "\n",
    "# set to true values\n",
    "params[seq(1, npar, by = 2)] <- log10(1e-14)\n",
    "params[seq(2, npar, by = 2)] <- 13/3"
   ]
  },
  {
   "cell_type": "code",
   "execution_count": 8,
   "metadata": {
    "collapsed": false
   },
   "outputs": [
    {
     "data": {
      "text/html": [
       "'A_gw = 1.1932e-14'"
      ],
      "text/latex": [
       "'A\\_gw = 1.1932e-14'"
      ],
      "text/markdown": [
       "'A_gw = 1.1932e-14'"
      ],
      "text/plain": [
       "[1] \"A_gw = 1.1932e-14\""
      ]
     },
     "metadata": {},
     "output_type": "display_data"
    },
    {
     "data": {
      "text/html": [
       "'SNR = 9.11196'"
      ],
      "text/latex": [
       "'SNR = 9.11196'"
      ],
      "text/markdown": [
       "'SNR = 9.11196'"
      ],
      "text/plain": [
       "[1] \"SNR = 9.11196\""
      ]
     },
     "metadata": {},
     "output_type": "display_data"
    }
   ],
   "source": [
    "# return a list with the angular separations (xi), cross correlations (rho), \n",
    "# and cross-correlation uncertainties (sig)\n",
    "cc <- compute_cross_coeffs(params, psrlist)\n",
    "\n",
    "# take the output list and compute the actual OS values\n",
    "os <- compute_os(cc)\n",
    "\n",
    "sprintf(\"A_gw = %g\", sqrt(os$Opt))\n",
    "sprintf(\"SNR = %g\", os$Opt/os$Sig)"
   ]
  },
  {
   "cell_type": "code",
   "execution_count": null,
   "metadata": {
    "collapsed": true
   },
   "outputs": [],
   "source": []
  }
 ],
 "metadata": {
  "kernelspec": {
   "display_name": "R",
   "language": "R",
   "name": "ir"
  },
  "language_info": {
   "codemirror_mode": "r",
   "file_extension": ".r",
   "mimetype": "text/x-r-source",
   "name": "R",
   "pygments_lexer": "r",
   "version": "3.3.2"
  }
 },
 "nbformat": 4,
 "nbformat_minor": 0
}
